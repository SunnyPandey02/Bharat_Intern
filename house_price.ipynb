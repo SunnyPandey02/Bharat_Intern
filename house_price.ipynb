{
 "cells": [
  {
   "cell_type": "code",
   "execution_count": null,
   "metadata": {},
   "outputs": [],
   "source": [
    "import pandas as pd \n",
    "from sklearn.model_selection import train_test_split\n",
    "from sklearn.linear_model import LinearRegression\n",
    "\n",
    "df = pd.read_csv('housing.csv')\n",
    "target = 'Price'\n",
    "feats = ['Avg. Area Income', 'Avg. Area House Age', 'Avg. Area Number of Rooms','Area Population']\n",
    "features = df[feats]\n",
    "label = df[target]\n",
    "train_feat, test_feat, train_label, test_label = train_test_split(features, label, test_size = 0.25, random_state = 40)\n",
    "model = LinearRegression().fit(train_feat, train_label)\n",
    "print('Test Score: ',round(model.score(test_feat, test_label) * 100, 2), '%')\n",
    "print('Train Score: ',round(model.score(train_feat, train_label) * 100, 2), '%')\n",
    "\n",
    "# Save the Model\n",
    "pd.to_pickle(model, 'housePricePredictor.pkl')"
   ]
  },
  {
   "cell_type": "code",
   "execution_count": null,
   "metadata": {},
   "outputs": [],
   "source": [
    "house = pd.read_pickle('housePricePredictor.pkl')\n",
    "house\n",
    "inc = eval(input('Enter Income:'))\n",
    "age = eval(input('Enter House Age:'))\n",
    "room = eval(input('Enter num of rooms:'))\n",
    "pop = eval(input('Enter population:'))\n",
    "query = [[inc,age,room,pop]]\n",
    "query = pd.DataFrame(query, columns=model.feature_names_in_)\n",
    "pred = house.predict(query)\n",
    "print(round(pred[0],2))"
   ]
  }
 ],
 "metadata": {
  "kernelspec": {
   "display_name": "Python 3",
   "language": "python",
   "name": "python3"
  },
  "language_info": {
   "name": "python",
   "version": "3.10.11"
  }
 },
 "nbformat": 4,
 "nbformat_minor": 2
}
